{
 "cells": [
  {
   "cell_type": "markdown",
   "metadata": {},
   "source": [
    "# Serialization (in Python)"
   ]
  },
  {
   "cell_type": "markdown",
   "metadata": {},
   "source": [
    "Graeme Watt, IPPP Computing Lunch Club, Monday 25th June 2018\n",
    "\n",
    "[`https://github.com/GraemeWatt/IPPPComputingLunchClub`](https://github.com/GraemeWatt/IPPPComputingLunchClub)\n",
    "\n",
    "Interact with this notebook via [Binder](https://mybinder.org/v2/gh/GraemeWatt/IPPPComputingLunchClub/master?filepath=notebooks)."
   ]
  },
  {
   "cell_type": "markdown",
   "metadata": {},
   "source": [
    "## Introduction"
   ]
  },
  {
   "cell_type": "markdown",
   "metadata": {},
   "source": [
    "**Aim:** translate data structures into a format that can be *stored* or *transmitted* and *reconstructed* later.\n",
    "\n",
    "Wikipedia: [Comparison of data serialization formats](https://en.wikipedia.org/wiki/Comparison_of_data_serialization_formats)\n",
    "\n",
    "| Name | Standardized? | Binary? | Human-readable? |\n",
    "|------|---------------|---------|-----------------|\n",
    "| [CSV](https://en.wikipedia.org/wiki/Comma-separated_values) | Partial | No | Yes |\n",
    "| [XML](https://www.w3.org/TR/REC-xml/) | Yes | Partial | Yes |\n",
    "| [JSON](http://json.org/) | Yes | No | Yes |\n",
    "| [Pickle (Python)](https://docs.python.org/3/library/pickle.html) | Yes | Yes | No |\n",
    "| [YAML](http://yaml.org/) | Yes | No | Yes |"
   ]
  },
  {
   "cell_type": "markdown",
   "metadata": {},
   "source": [
    "Represent data structures with three basic primitives: *mappings* (hashes/dictionaries), *sequences* (arrays/lists) and *scalars* (strings/numbers)."
   ]
  },
  {
   "cell_type": "code",
   "execution_count": 1,
   "metadata": {},
   "outputs": [],
   "source": [
    "from __future__ import print_function "
   ]
  },
  {
   "cell_type": "markdown",
   "metadata": {},
   "source": [
    "## Sample data"
   ]
  },
  {
   "cell_type": "markdown",
   "metadata": {},
   "source": [
    "Define some sample data taken from the [YUM Burgers menu](https://www.yumfood.org.uk/resources/yum/locations/palatine/218262_PalatineDigitalFri_WK1.png) served at the Palatine Café at Durham University."
   ]
  },
  {
   "cell_type": "code",
   "execution_count": 2,
   "metadata": {},
   "outputs": [],
   "source": [
    "meals = [['Main + all sides', 6.95], ['Main + 1 side', 4.95], ['Vegetarian Main + all sides', 6.45], ['Vegetarian Main + 1 side', 4.75]]"
   ]
  },
  {
   "cell_type": "code",
   "execution_count": 3,
   "metadata": {},
   "outputs": [],
   "source": [
    "burgers = [{'type': 'Angus Beef', 'vegetarian': False}, {'type': 'Angus Cheese', 'vegetarian': False}, {'type': 'Lamb & Feta', 'vegetarian': False}, {'type': 'Cajun Chicken', 'vegetarian': False}, {'type': 'Falafel', 'vegetarian': True}]"
   ]
  },
  {
   "cell_type": "code",
   "execution_count": 4,
   "metadata": {},
   "outputs": [],
   "source": [
    "sides = ['Homemade Coleslaw', 'French Fries', 'Side Salad', 'Corn on the Cob']"
   ]
  },
  {
   "cell_type": "code",
   "execution_count": 5,
   "metadata": {},
   "outputs": [],
   "source": [
    "sauces = ['Ketchup', 'Mustard', 'Mayo']"
   ]
  },
  {
   "cell_type": "markdown",
   "metadata": {},
   "source": [
    "## Comma-separated values (CSV)"
   ]
  },
  {
   "cell_type": "code",
   "execution_count": 6,
   "metadata": {},
   "outputs": [],
   "source": [
    "import csv"
   ]
  },
  {
   "cell_type": "markdown",
   "metadata": {},
   "source": [
    "Write the `meals` list to a CSV file, with a header as the first line."
   ]
  },
  {
   "cell_type": "code",
   "execution_count": 7,
   "metadata": {},
   "outputs": [],
   "source": [
    "with open('meals.csv', 'wt') as fout:\n",
    "    csvout = csv.writer(fout)\n",
    "    csvout.writerow(['Meal', 'Price [GBP]'])\n",
    "    csvout.writerows(meals)"
   ]
  },
  {
   "cell_type": "markdown",
   "metadata": {},
   "source": [
    "Read the CSV file and print out each row."
   ]
  },
  {
   "cell_type": "code",
   "execution_count": 8,
   "metadata": {},
   "outputs": [
    {
     "name": "stdout",
     "output_type": "stream",
     "text": [
      "['Meal', 'Price [GBP]']\n",
      "['Main + all sides', '6.95']\n",
      "['Main + 1 side', '4.95']\n",
      "['Vegetarian Main + all sides', '6.45']\n",
      "['Vegetarian Main + 1 side', '4.75']\n"
     ]
    }
   ],
   "source": [
    "with open('meals.csv', 'rt') as fin:\n",
    "    csvin = csv.reader(fin)\n",
    "    for row in csvin:\n",
    "        print(row)"
   ]
  },
  {
   "cell_type": "markdown",
   "metadata": {},
   "source": [
    "Read each row of the CSV file into a dict whose keys are given by the header."
   ]
  },
  {
   "cell_type": "code",
   "execution_count": 9,
   "metadata": {},
   "outputs": [
    {
     "name": "stdout",
     "output_type": "stream",
     "text": [
      "Main + all sides costs 6.95\n",
      "Main + 1 side costs 4.95\n",
      "Vegetarian Main + all sides costs 6.45\n",
      "Vegetarian Main + 1 side costs 4.75\n"
     ]
    }
   ],
   "source": [
    "with open('meals.csv', 'rt') as fin:\n",
    "    csvin = csv.DictReader(fin)\n",
    "    for row in csvin:\n",
    "        print(row['Meal'], 'costs', row['Price [GBP]'])"
   ]
  },
  {
   "cell_type": "markdown",
   "metadata": {},
   "source": [
    "The field separator need not be a comma.  For example, [YODA](http://yoda.hepforge.org) uses a tab-separated values (TSV) format."
   ]
  },
  {
   "cell_type": "code",
   "execution_count": 10,
   "metadata": {},
   "outputs": [],
   "source": [
    "import requests\n",
    "yodafile = requests.get('https://hepdata.net/record/ins1632756?table=Table1&version=1&format=yoda').text"
   ]
  },
  {
   "cell_type": "code",
   "execution_count": 11,
   "metadata": {},
   "outputs": [
    {
     "name": "stdout",
     "output_type": "stream",
     "text": [
      "BEGIN YODA_SCATTER2D_V2 /REF/ATLAS_2017_I1632756/d01-x01-y01\n",
      "Variations: [\"\"]\n",
      "ErrorBreakdown: {0: {stat: {dn: -80, up: 70}, sys: {dn: -140, up: 140}}, 1: {stat: {dn: -60, up: 60}, sys: {dn: -80, up: 80}}}\n",
      "\n",
      "IsRef: 1\n",
      "Path: /REF/ATLAS_2017_I1632756/d01-x01-y01\n",
      "Title: doi:10.17182/hepdata.79163.v1/t1\n",
      "Type: Scatter2D\n",
      "---\n",
      "# xval\t xerr-\t xerr+\t yval\t yerr-\t yerr+\t\n",
      "6.850000e-01\t6.850000e-01\t6.850000e-01\t7.700000e+02\t1.612452e+02\t1.565248e+02\n",
      "1.965000e+00\t4.050000e-01\t4.050000e-01\t2.200000e+02\t1.000000e+02\t1.000000e+02\n",
      "END YODA_SCATTER2D_V2\n",
      "BEGIN YODA_SCATTER2D_V2 /REF/ATLAS_2017_I1632756/d01-x01-y02\n",
      "Variations: [\"\"]\n",
      "ErrorBreakdown: {0: {stat: {dn: -300, up: 300}, sys: {dn: -800, up: 800}}, 1: {stat: {dn: -300, up: 200}, sys: {dn: -400, up: 400}}}\n",
      "\n",
      "IsRef: 1\n",
      "Path: /REF/ATLAS_2017_I1632756/d01-x01-y02\n",
      "Title: doi:10.17182/hepdata.79163.v1/t1\n",
      "Type: Scatter2D\n",
      "---\n",
      "# xval\t xerr-\t xerr+\t yval\t yerr-\t yerr+\t\n",
      "6.850000e-01\t6.850000e-01\t6.850000e-01\t2.500000e+03\t8.544004e+02\t8.544004e+02\n",
      "1.965000e+00\t4.050000e-01\t4.050000e-01\t1.200000e+03\t5.000000e+02\t4.472136e+02\n",
      "END YODA_SCATTER2D_V2\n",
      "\n"
     ]
    }
   ],
   "source": [
    "print(yodafile)"
   ]
  },
  {
   "cell_type": "code",
   "execution_count": 12,
   "metadata": {},
   "outputs": [
    {
     "name": "stdout",
     "output_type": "stream",
     "text": [
      "['# xval', ' xerr-', ' xerr+', ' yval', ' yerr-', ' yerr+', '']\n",
      "['6.850000e-01', '6.850000e-01', '6.850000e-01', '7.700000e+02', '1.612452e+02', '1.565248e+02']\n",
      "['1.965000e+00', '4.050000e-01', '4.050000e-01', '2.200000e+02', '1.000000e+02', '1.000000e+02']\n",
      "['# xval', ' xerr-', ' xerr+', ' yval', ' yerr-', ' yerr+', '']\n",
      "['6.850000e-01', '6.850000e-01', '6.850000e-01', '2.500000e+03', '8.544004e+02', '8.544004e+02']\n",
      "['1.965000e+00', '4.050000e-01', '4.050000e-01', '1.200000e+03', '5.000000e+02', '4.472136e+02']\n"
     ]
    }
   ],
   "source": [
    "from io import StringIO\n",
    "reader = csv.reader(StringIO(yodafile), delimiter='\\t')\n",
    "for row in reader:\n",
    "    if len(row) < 2:\n",
    "        continue\n",
    "    elif row[0].startswith('END'):\n",
    "        break\n",
    "    else:\n",
    "        print(row)"
   ]
  },
  {
   "cell_type": "markdown",
   "metadata": {},
   "source": [
    "## XML (eXtensible Markup Language)"
   ]
  },
  {
   "cell_type": "markdown",
   "metadata": {},
   "source": [
    "XML defines a set of rules for encoding documents in a format that is both human-readable and machine-readable."
   ]
  },
  {
   "cell_type": "code",
   "execution_count": 13,
   "metadata": {},
   "outputs": [],
   "source": [
    "import xml.etree.ElementTree as ET"
   ]
  },
  {
   "cell_type": "markdown",
   "metadata": {},
   "source": [
    "Each element has a *tag*, a number of *attributes*, a *text* string, and a number of *child* elements."
   ]
  },
  {
   "cell_type": "markdown",
   "metadata": {},
   "source": [
    "Write an XML file."
   ]
  },
  {
   "cell_type": "code",
   "execution_count": 14,
   "metadata": {},
   "outputs": [
    {
     "name": "stdout",
     "output_type": "stream",
     "text": [
      "<menu><meal price=\"6.95\">Main + all sides</meal><meal price=\"4.95\">Main + 1 side</meal><meal price=\"6.45\">Vegetarian Main + all sides</meal><meal price=\"4.75\">Vegetarian Main + 1 side</meal><burger vegetarian=\"False\">Angus Beef</burger><burger vegetarian=\"False\">Angus Cheese</burger><burger vegetarian=\"False\">Lamb &amp; Feta</burger><burger vegetarian=\"False\">Cajun Chicken</burger><burger vegetarian=\"True\">Falafel</burger><side>Homemade Coleslaw</side><side>French Fries</side><side>Side Salad</side><side>Corn on the Cob</side><sauce>Ketchup</sauce><sauce>Mustard</sauce><sauce>Mayo</sauce></menu>\n"
     ]
    }
   ],
   "source": [
    "root = ET.Element('menu')\n",
    "\n",
    "for meal in meals:\n",
    "    ET.SubElement(root, 'meal', price=str(meal[1])).text = meal[0]\n",
    "\n",
    "for burger in burgers:\n",
    "    ET.SubElement(root, 'burger', vegetarian=str(burger['vegetarian'])).text = burger['type']\n",
    "    \n",
    "for side in sides:\n",
    "    ET.SubElement(root, 'side').text = side\n",
    "    \n",
    "for sauce in sauces:\n",
    "    ET.SubElement(root, 'sauce').text = sauce\n",
    "    \n",
    "tree = ET.ElementTree(root)\n",
    "tree.write('menu.xml')\n",
    "ET.dump(tree)"
   ]
  },
  {
   "cell_type": "markdown",
   "metadata": {},
   "source": [
    "Read an XML file."
   ]
  },
  {
   "cell_type": "code",
   "execution_count": 15,
   "metadata": {},
   "outputs": [],
   "source": [
    "tree = ET.parse('menu.xml')\n",
    "root = tree.getroot()"
   ]
  },
  {
   "cell_type": "code",
   "execution_count": 16,
   "metadata": {},
   "outputs": [
    {
     "data": {
      "text/plain": [
       "'menu'"
      ]
     },
     "execution_count": 16,
     "metadata": {},
     "output_type": "execute_result"
    }
   ],
   "source": [
    "root.tag"
   ]
  },
  {
   "cell_type": "code",
   "execution_count": 17,
   "metadata": {},
   "outputs": [
    {
     "name": "stdout",
     "output_type": "stream",
     "text": [
      "\n",
      "meal = Main + all sides\n",
      "price = 6.95\n",
      "\n",
      "meal = Main + 1 side\n",
      "price = 4.95\n",
      "\n",
      "meal = Vegetarian Main + all sides\n",
      "price = 6.45\n",
      "\n",
      "meal = Vegetarian Main + 1 side\n",
      "price = 4.75\n",
      "\n",
      "burger = Angus Beef\n",
      "vegetarian = False\n",
      "\n",
      "burger = Angus Cheese\n",
      "vegetarian = False\n",
      "\n",
      "burger = Lamb & Feta\n",
      "vegetarian = False\n",
      "\n",
      "burger = Cajun Chicken\n",
      "vegetarian = False\n",
      "\n",
      "burger = Falafel\n",
      "vegetarian = True\n",
      "\n",
      "side = Homemade Coleslaw\n",
      "\n",
      "side = French Fries\n",
      "\n",
      "side = Side Salad\n",
      "\n",
      "side = Corn on the Cob\n",
      "\n",
      "sauce = Ketchup\n",
      "\n",
      "sauce = Mustard\n",
      "\n",
      "sauce = Mayo\n"
     ]
    }
   ],
   "source": [
    "for child in root:\n",
    "    print()\n",
    "    print('{} = {}'.format(child.tag, child.text))\n",
    "    for attrib in child.attrib:\n",
    "        print('{} = {}'.format(attrib, child.attrib[attrib]))"
   ]
  },
  {
   "cell_type": "markdown",
   "metadata": {},
   "source": [
    "## JSON (JavaScript Object Notation)"
   ]
  },
  {
   "cell_type": "markdown",
   "metadata": {},
   "source": [
    "JSON has gained popularity over XML in recent years."
   ]
  },
  {
   "cell_type": "code",
   "execution_count": 18,
   "metadata": {},
   "outputs": [],
   "source": [
    "import json"
   ]
  },
  {
   "cell_type": "markdown",
   "metadata": {},
   "source": [
    "Note the similarity of the Python and JSON representations."
   ]
  },
  {
   "cell_type": "code",
   "execution_count": 19,
   "metadata": {},
   "outputs": [
    {
     "name": "stdout",
     "output_type": "stream",
     "text": [
      "Python: {'meals': [['Main + all sides', 6.95], ['Main + 1 side', 4.95], ['Vegetarian Main + all sides', 6.45], ['Vegetarian Main + 1 side', 4.75]], 'burgers': [{'type': 'Angus Beef', 'vegetarian': False}, {'type': 'Angus Cheese', 'vegetarian': False}, {'type': 'Lamb & Feta', 'vegetarian': False}, {'type': 'Cajun Chicken', 'vegetarian': False}, {'type': 'Falafel', 'vegetarian': True}], 'sides': ['Homemade Coleslaw', 'French Fries', 'Side Salad', 'Corn on the Cob'], 'sauces': ['Ketchup', 'Mustard', 'Mayo']}\n",
      "\n",
      "JSON: {\"meals\": [[\"Main + all sides\", 6.95], [\"Main + 1 side\", 4.95], [\"Vegetarian Main + all sides\", 6.45], [\"Vegetarian Main + 1 side\", 4.75]], \"burgers\": [{\"type\": \"Angus Beef\", \"vegetarian\": false}, {\"type\": \"Angus Cheese\", \"vegetarian\": false}, {\"type\": \"Lamb & Feta\", \"vegetarian\": false}, {\"type\": \"Cajun Chicken\", \"vegetarian\": false}, {\"type\": \"Falafel\", \"vegetarian\": true}], \"sides\": [\"Homemade Coleslaw\", \"French Fries\", \"Side Salad\", \"Corn on the Cob\"], \"sauces\": [\"Ketchup\", \"Mustard\", \"Mayo\"]}\n"
     ]
    }
   ],
   "source": [
    "menu = {'meals': meals, 'burgers': burgers, 'sides': sides, 'sauces': sauces}\n",
    "print('Python:', menu)\n",
    "print()\n",
    "print('JSON:', json.dumps(menu))"
   ]
  },
  {
   "cell_type": "markdown",
   "metadata": {},
   "source": [
    "Write a JSON file."
   ]
  },
  {
   "cell_type": "code",
   "execution_count": 20,
   "metadata": {},
   "outputs": [],
   "source": [
    "with open('menu.json', 'wt') as fout:\n",
    "    json.dump(menu, fout)"
   ]
  },
  {
   "cell_type": "markdown",
   "metadata": {},
   "source": [
    "Read a JSON file."
   ]
  },
  {
   "cell_type": "code",
   "execution_count": 21,
   "metadata": {},
   "outputs": [],
   "source": [
    "with open('menu.json', 'rt') as fin:\n",
    "    menu1 = json.load(fin)"
   ]
  },
  {
   "cell_type": "code",
   "execution_count": 22,
   "metadata": {},
   "outputs": [
    {
     "name": "stdout",
     "output_type": "stream",
     "text": [
      "True\n"
     ]
    }
   ],
   "source": [
    "print(menu1 == menu)"
   ]
  },
  {
   "cell_type": "code",
   "execution_count": 23,
   "metadata": {},
   "outputs": [
    {
     "name": "stdout",
     "output_type": "stream",
     "text": [
      "meals = [['Main + all sides', 6.95], ['Main + 1 side', 4.95], ['Vegetarian Main + all sides', 6.45], ['Vegetarian Main + 1 side', 4.75]]\n",
      "burgers = [{'type': 'Angus Beef', 'vegetarian': False}, {'type': 'Angus Cheese', 'vegetarian': False}, {'type': 'Lamb & Feta', 'vegetarian': False}, {'type': 'Cajun Chicken', 'vegetarian': False}, {'type': 'Falafel', 'vegetarian': True}]\n",
      "sides = ['Homemade Coleslaw', 'French Fries', 'Side Salad', 'Corn on the Cob']\n",
      "sauces = ['Ketchup', 'Mustard', 'Mayo']\n"
     ]
    }
   ],
   "source": [
    "print('meals = {}'.format(menu1['meals']))\n",
    "print('burgers = {}'.format(menu1['burgers']))\n",
    "print('sides = {}'.format(menu1['sides']))\n",
    "print('sauces = {}'.format(menu1['sauces']))"
   ]
  },
  {
   "cell_type": "markdown",
   "metadata": {},
   "source": [
    "### Aside: JSON Schema"
   ]
  },
  {
   "cell_type": "markdown",
   "metadata": {},
   "source": [
    "[JSON Schema](http://json-schema.org/) is a vocabulary that allows you to annotate and validate JSON documents (example: [hepdata-validator schemas](https://github.com/HEPData/hepdata-validator/tree/master/hepdata_validator/schemas)).\n",
    "\n",
    "Here is a schema that defines the `menu` data structure."
   ]
  },
  {
   "cell_type": "code",
   "execution_count": 24,
   "metadata": {},
   "outputs": [],
   "source": [
    "schema = {\n",
    "    \"properties\": {\n",
    "        \"meals\": {\n",
    "            \"type\": \"array\",\n",
    "            \"description\": \"List of meals\",\n",
    "            \"items\": {\n",
    "                \"type\": \"array\",\n",
    "                \"items\": [\n",
    "                    {\"type\": \"string\", \"description\": \"Meal\"},\n",
    "                    {\"type\": \"number\", \"description\": \"Price [GBP]\", \"exclusiveMinimum\": 0}\n",
    "                ],\n",
    "                \"additionalItems\": False\n",
    "            }\n",
    "        },\n",
    "        \"burgers\": {\n",
    "            \"type\": \"array\",\n",
    "            \"description\": \"List of burgers\",\n",
    "            \"items\": {\n",
    "                \"properties\": {\n",
    "                    \"type\": {\n",
    "                        \"type\": \"string\",\n",
    "                        \"description\": \"Type of burger\"\n",
    "                    },\n",
    "                    \"vegetarian\": {\n",
    "                        \"type\": \"boolean\",\n",
    "                        \"description\": \"Suitable for vegetarians\"\n",
    "                    }\n",
    "                },\n",
    "                \"required\": [\"type\", \"vegetarian\"]\n",
    "            }\n",
    "        },\n",
    "        \"sides\": {\n",
    "            \"type\": \"array\",\n",
    "            \"description\": \"List of sides\",\n",
    "            \"items\": {\"type\": \"string\"}\n",
    "        },\n",
    "        \"sauces\": {\n",
    "            \"type\": \"array\",\n",
    "            \"description\": \"List of sides\",\n",
    "            \"items\": {\"type\": \"string\"}\n",
    "        }\n",
    "    },\n",
    "    \"required\": [\"meals\", \"burgers\", \"sides\"]\n",
    "}"
   ]
  },
  {
   "cell_type": "code",
   "execution_count": 25,
   "metadata": {},
   "outputs": [],
   "source": [
    "with open('schema.json', 'wt') as fout:\n",
    "    json.dump(schema, fout)"
   ]
  },
  {
   "cell_type": "code",
   "execution_count": 26,
   "metadata": {},
   "outputs": [],
   "source": [
    "with open('schema.json', 'rt') as fin:\n",
    "    schema1 = json.load(fin)"
   ]
  },
  {
   "cell_type": "code",
   "execution_count": 27,
   "metadata": {},
   "outputs": [
    {
     "name": "stdout",
     "output_type": "stream",
     "text": [
      "{'properties': {'meals': {'type': 'array', 'description': 'List of meals', 'items': {'type': 'array', 'items': [{'type': 'string', 'description': 'Meal'}, {'type': 'number', 'description': 'Price [GBP]', 'exclusiveMinimum': 0}], 'additionalItems': False}}, 'burgers': {'type': 'array', 'description': 'List of burgers', 'items': {'properties': {'type': {'type': 'string', 'description': 'Type of burger'}, 'vegetarian': {'type': 'boolean', 'description': 'Suitable for vegetarians'}}, 'required': ['type', 'vegetarian']}}, 'sides': {'type': 'array', 'description': 'List of sides', 'items': {'type': 'string'}}, 'sauces': {'type': 'array', 'description': 'List of sides', 'items': {'type': 'string'}}}, 'required': ['meals', 'burgers', 'sides']}\n"
     ]
    }
   ],
   "source": [
    "print(schema1)"
   ]
  },
  {
   "cell_type": "code",
   "execution_count": 28,
   "metadata": {},
   "outputs": [],
   "source": [
    "from jsonschema import validate"
   ]
  },
  {
   "cell_type": "code",
   "execution_count": 29,
   "metadata": {},
   "outputs": [],
   "source": [
    "validate(menu1, schema)"
   ]
  },
  {
   "cell_type": "code",
   "execution_count": 30,
   "metadata": {},
   "outputs": [
    {
     "name": "stdout",
     "output_type": "stream",
     "text": [
      "{'meals': [['Main + all sides', 6.95], ['Main + 1 side', 4.95], ['Vegetarian Main + all sides', 6.45], ['Vegetarian Main + 1 side', 4.75]], 'burgers': [{'type': 'Angus Beef', 'vegetarian': False}, {'type': 'Angus Cheese', 'vegetarian': False}, {'type': 'Lamb & Feta', 'vegetarian': False}, {'type': 'Cajun Chicken', 'vegetarian': False}, {'type': 'Falafel', 'vegetarian': True}], 'sides': ['Homemade Coleslaw', 'French Fries', 'Side Salad', 'Corn on the Cob'], 'sauces': ['Ketchup', 'Mustard', 'Mayo']}\n"
     ]
    }
   ],
   "source": [
    "print(menu1)"
   ]
  },
  {
   "cell_type": "code",
   "execution_count": 31,
   "metadata": {},
   "outputs": [
    {
     "name": "stdout",
     "output_type": "stream",
     "text": [
      "{'meals': [['Main + all sides', 0], ['Main + 1 side', 4.95], ['Vegetarian Main + all sides', 6.45], ['Vegetarian Main + 1 side', 4.75]], 'burgers': [{'type': 'Angus Beef', 'vegetarian': False}, {'type': 'Angus Cheese', 'vegetarian': False}, {'type': 'Lamb & Feta', 'vegetarian': False}, {'type': 'Cajun Chicken', 'vegetarian': False}, {'type': 'Falafel', 'vegetarian': True}], 'sides': ['Homemade Coleslaw', 'French Fries', 'Side Salad', 'Corn on the Cob'], 'sauces': ['Ketchup', 'Mustard', 'Mayo']}\n"
     ]
    }
   ],
   "source": [
    "menu1['meals'][0][1] = 0\n",
    "print(menu1)\n",
    "#validate(menu1, schema) # gives a ValidationError"
   ]
  },
  {
   "cell_type": "code",
   "execution_count": 32,
   "metadata": {},
   "outputs": [
    {
     "name": "stdout",
     "output_type": "stream",
     "text": [
      "{'meals': [['Main + all sides', 6.95], ['Main + 1 side', 4.95], ['Vegetarian Main + all sides', 6.45], ['Vegetarian Main + 1 side', 4.75]], 'burgers': [{'type': 'Angus Beef', 'vegetarian': False}, {'type': 'Angus Cheese', 'vegetarian': False}, {'type': 'Lamb & Feta', 'vegetarian': False}, {'type': 'Cajun Chicken', 'vegetarian': False}, {'type': 'Falafel', 'vegetarian': True}], 'sides': ['Homemade Coleslaw', 'French Fries', 'Side Salad', 'Corn on the Cob'], 'sauces': ['Ketchup', 'Mustard', 'Mayo']}\n"
     ]
    }
   ],
   "source": [
    "menu1['meals'][0][1] = 6.95\n",
    "print(menu1)\n",
    "validate(menu1, schema)"
   ]
  },
  {
   "cell_type": "markdown",
   "metadata": {},
   "source": [
    "## Pickle (Python)"
   ]
  },
  {
   "cell_type": "markdown",
   "metadata": {},
   "source": [
    "The pickle module implements binary protocols for serializing and de-serializing a Python object structure.\n",
    "\n",
    "JSON, by default, can only represent a subset of the Python built-in types, and no custom classes."
   ]
  },
  {
   "cell_type": "code",
   "execution_count": 33,
   "metadata": {},
   "outputs": [
    {
     "data": {
      "text/plain": [
       "datetime.datetime(2019, 2, 26, 13, 48, 56, 743523)"
      ]
     },
     "execution_count": 33,
     "metadata": {},
     "output_type": "execute_result"
    }
   ],
   "source": [
    "import datetime\n",
    "now = datetime.datetime.utcnow()\n",
    "now"
   ]
  },
  {
   "cell_type": "code",
   "execution_count": 34,
   "metadata": {},
   "outputs": [],
   "source": [
    "#json.dumps({'time': now}) # gives a TypeError"
   ]
  },
  {
   "cell_type": "code",
   "execution_count": 35,
   "metadata": {},
   "outputs": [],
   "source": [
    "class Meal():\n",
    "    def __init__(self, burger, sides, sauces):\n",
    "        self.burger = burger\n",
    "        self.sides = sides\n",
    "        self.sauces = sauces\n",
    "    @property\n",
    "    def vegetarian(self):\n",
    "        for burger in burgers:\n",
    "            if burger['type'] == self.burger:\n",
    "                return burger['vegetarian']\n",
    "    @property\n",
    "    def price(self):\n",
    "        if self.vegetarian:\n",
    "            return 4.75 if len(self.sides) <= 1 else 6.45\n",
    "        else:\n",
    "            return 4.95 if len(self.sides) <= 1 else 6.95"
   ]
  },
  {
   "cell_type": "code",
   "execution_count": 36,
   "metadata": {},
   "outputs": [],
   "source": [
    "meal1 = Meal('Angus Beef', ['French Fries'], ['Ketchup', 'Mustard'])\n",
    "meal2 = Meal('Falafel', ['Homemade Coleslaw', 'French Fries', 'Side Salad', 'Corn on the Cob'], ['Mayo'])"
   ]
  },
  {
   "cell_type": "code",
   "execution_count": 37,
   "metadata": {},
   "outputs": [
    {
     "name": "stdout",
     "output_type": "stream",
     "text": [
      "Angus Beef ['French Fries'] ['Ketchup', 'Mustard'] False 4.95\n",
      "Falafel ['Homemade Coleslaw', 'French Fries', 'Side Salad', 'Corn on the Cob'] ['Mayo'] True 6.45\n"
     ]
    }
   ],
   "source": [
    "print(meal1.burger, meal1.sides, meal1.sauces, meal1.vegetarian, meal1.price)\n",
    "print(meal2.burger, meal2.sides, meal2.sauces, meal2.vegetarian, meal2.price)"
   ]
  },
  {
   "cell_type": "code",
   "execution_count": 38,
   "metadata": {},
   "outputs": [],
   "source": [
    "#json.dumps({'meal1': meal1, 'meal2': meal2}) # gives a TypeError"
   ]
  },
  {
   "cell_type": "code",
   "execution_count": 39,
   "metadata": {},
   "outputs": [],
   "source": [
    "import pickle"
   ]
  },
  {
   "cell_type": "code",
   "execution_count": 40,
   "metadata": {},
   "outputs": [
    {
     "name": "stdout",
     "output_type": "stream",
     "text": [
      "{'meals': [['Main + all sides', 6.95], ['Main + 1 side', 4.95], ['Vegetarian Main + all sides', 6.45], ['Vegetarian Main + 1 side', 4.75]], 'burgers': [{'type': 'Angus Beef', 'vegetarian': False}, {'type': 'Angus Cheese', 'vegetarian': False}, {'type': 'Lamb & Feta', 'vegetarian': False}, {'type': 'Cajun Chicken', 'vegetarian': False}, {'type': 'Falafel', 'vegetarian': True}], 'sides': ['Homemade Coleslaw', 'French Fries', 'Side Salad', 'Corn on the Cob'], 'sauces': ['Ketchup', 'Mustard', 'Mayo']}\n"
     ]
    }
   ],
   "source": [
    "print(menu)"
   ]
  },
  {
   "cell_type": "code",
   "execution_count": 41,
   "metadata": {},
   "outputs": [
    {
     "name": "stdout",
     "output_type": "stream",
     "text": [
      "Python: {'meals': [['Main + all sides', 6.95], ['Main + 1 side', 4.95], ['Vegetarian Main + all sides', 6.45], ['Vegetarian Main + 1 side', 4.75]], 'burgers': [{'type': 'Angus Beef', 'vegetarian': False}, {'type': 'Angus Cheese', 'vegetarian': False}, {'type': 'Lamb & Feta', 'vegetarian': False}, {'type': 'Cajun Chicken', 'vegetarian': False}, {'type': 'Falafel', 'vegetarian': True}], 'sides': ['Homemade Coleslaw', 'French Fries', 'Side Salad', 'Corn on the Cob'], 'sauces': ['Ketchup', 'Mustard', 'Mayo'], 'now': datetime.datetime(2019, 2, 26, 13, 48, 56, 743523), 'meal1': <__main__.Meal object at 0x7f00b6fa5390>, 'meal2': <__main__.Meal object at 0x7f00b6c82080>}\n"
     ]
    }
   ],
   "source": [
    "from copy import deepcopy\n",
    "menu_plus = deepcopy(menu)\n",
    "menu_plus.update({'now': now, 'meal1': meal1, 'meal2': meal2})\n",
    "print('Python:', menu_plus)"
   ]
  },
  {
   "cell_type": "code",
   "execution_count": 42,
   "metadata": {},
   "outputs": [
    {
     "name": "stdout",
     "output_type": "stream",
     "text": [
      "Pickle: b'\\x80\\x03}q\\x00(X\\x05\\x00\\x00\\x00mealsq\\x01]q\\x02(]q\\x03(X\\x10\\x00\\x00\\x00Main + all sidesq\\x04G@\\x1b\\xcc\\xcc\\xcc\\xcc\\xcc\\xcde]q\\x05(X\\r\\x00\\x00\\x00Main + 1 sideq\\x06G@\\x13\\xcc\\xcc\\xcc\\xcc\\xcc\\xcde]q\\x07(X\\x1b\\x00\\x00\\x00Vegetarian Main + all sidesq\\x08G@\\x19\\xcc\\xcc\\xcc\\xcc\\xcc\\xcde]q\\t(X\\x18\\x00\\x00\\x00Vegetarian Main + 1 sideq\\nG@\\x13\\x00\\x00\\x00\\x00\\x00\\x00eeX\\x07\\x00\\x00\\x00burgersq\\x0b]q\\x0c(}q\\r(X\\x04\\x00\\x00\\x00typeq\\x0eX\\n\\x00\\x00\\x00Angus Beefq\\x0fX\\n\\x00\\x00\\x00vegetarianq\\x10\\x89u}q\\x11(h\\x0eX\\x0c\\x00\\x00\\x00Angus Cheeseq\\x12h\\x10\\x89u}q\\x13(h\\x0eX\\x0b\\x00\\x00\\x00Lamb & Fetaq\\x14h\\x10\\x89u}q\\x15(h\\x0eX\\r\\x00\\x00\\x00Cajun Chickenq\\x16h\\x10\\x89u}q\\x17(h\\x0eX\\x07\\x00\\x00\\x00Falafelq\\x18h\\x10\\x88ueX\\x05\\x00\\x00\\x00sidesq\\x19]q\\x1a(X\\x11\\x00\\x00\\x00Homemade Coleslawq\\x1bX\\x0c\\x00\\x00\\x00French Friesq\\x1cX\\n\\x00\\x00\\x00Side Saladq\\x1dX\\x0f\\x00\\x00\\x00Corn on the Cobq\\x1eeX\\x06\\x00\\x00\\x00saucesq\\x1f]q (X\\x07\\x00\\x00\\x00Ketchupq!X\\x07\\x00\\x00\\x00Mustardq\"X\\x04\\x00\\x00\\x00Mayoq#eX\\x03\\x00\\x00\\x00nowq$cdatetime\\ndatetime\\nq%C\\n\\x07\\xe3\\x02\\x1a\\r08\\x0bXcq&\\x85q\\'Rq(X\\x05\\x00\\x00\\x00meal1q)c__main__\\nMeal\\nq*)\\x81q+}q,(X\\x06\\x00\\x00\\x00burgerq-X\\n\\x00\\x00\\x00Angus Beefq.h\\x19]q/X\\x0c\\x00\\x00\\x00French Friesq0ah\\x1f]q1(h!h\"eubX\\x05\\x00\\x00\\x00meal2q2h*)\\x81q3}q4(h-h\\x18h\\x19]q5(X\\x11\\x00\\x00\\x00Homemade Coleslawq6X\\x0c\\x00\\x00\\x00French Friesq7X\\n\\x00\\x00\\x00Side Saladq8X\\x0f\\x00\\x00\\x00Corn on the Cobq9eh\\x1f]q:h#aubu.'\n"
     ]
    }
   ],
   "source": [
    "pickled_menu_plus = pickle.dumps(menu_plus)\n",
    "print('Pickle:', pickled_menu_plus)"
   ]
  },
  {
   "cell_type": "markdown",
   "metadata": {},
   "source": [
    "Write the pickled `menu_plus` to a file.  (Note that Pickle doesn't save the `Meal` class definition, just the instances.)"
   ]
  },
  {
   "cell_type": "code",
   "execution_count": 43,
   "metadata": {},
   "outputs": [],
   "source": [
    "with open('menu_plus.pickle', 'wb') as fout:\n",
    "    pickle.dump(menu_plus, fout)"
   ]
  },
  {
   "cell_type": "markdown",
   "metadata": {},
   "source": [
    "Read the pickled `menu_plus` from a file."
   ]
  },
  {
   "cell_type": "code",
   "execution_count": 44,
   "metadata": {},
   "outputs": [],
   "source": [
    "with open('menu_plus.pickle', 'rb') as fin:\n",
    "    menu_plus1 = pickle.load(fin)"
   ]
  },
  {
   "cell_type": "code",
   "execution_count": 45,
   "metadata": {},
   "outputs": [
    {
     "name": "stdout",
     "output_type": "stream",
     "text": [
      "{'meals': [['Main + all sides', 6.95], ['Main + 1 side', 4.95], ['Vegetarian Main + all sides', 6.45], ['Vegetarian Main + 1 side', 4.75]], 'burgers': [{'type': 'Angus Beef', 'vegetarian': False}, {'type': 'Angus Cheese', 'vegetarian': False}, {'type': 'Lamb & Feta', 'vegetarian': False}, {'type': 'Cajun Chicken', 'vegetarian': False}, {'type': 'Falafel', 'vegetarian': True}], 'sides': ['Homemade Coleslaw', 'French Fries', 'Side Salad', 'Corn on the Cob'], 'sauces': ['Ketchup', 'Mustard', 'Mayo'], 'now': datetime.datetime(2019, 2, 26, 13, 48, 56, 743523), 'meal1': <__main__.Meal object at 0x7f00b6c764a8>, 'meal2': <__main__.Meal object at 0x7f00b6c76828>}\n"
     ]
    }
   ],
   "source": [
    "print(menu_plus1)"
   ]
  },
  {
   "cell_type": "code",
   "execution_count": 46,
   "metadata": {},
   "outputs": [
    {
     "name": "stdout",
     "output_type": "stream",
     "text": [
      "Angus Beef ['French Fries'] ['Ketchup', 'Mustard'] False 4.95\n",
      "Falafel ['Homemade Coleslaw', 'French Fries', 'Side Salad', 'Corn on the Cob'] ['Mayo'] True 6.45\n"
     ]
    }
   ],
   "source": [
    "print(menu_plus1['meal1'].burger, menu_plus1['meal1'].sides, menu_plus1['meal1'].sauces, menu_plus1['meal1'].vegetarian, menu_plus1['meal1'].price)\n",
    "print(menu_plus1['meal2'].burger, menu_plus1['meal2'].sides, menu_plus1['meal2'].sauces, menu_plus1['meal2'].vegetarian, menu_plus1['meal2'].price)"
   ]
  },
  {
   "cell_type": "markdown",
   "metadata": {},
   "source": [
    "Another example (https://docs.python.org/3/library/pickle.html#examples)."
   ]
  },
  {
   "cell_type": "code",
   "execution_count": 47,
   "metadata": {},
   "outputs": [
    {
     "name": "stdout",
     "output_type": "stream",
     "text": [
      "Python: {'a': [1, 2.0, 3, (4+6j)], 'b': ('character string', b'byte string'), 'c': {False, None, True}}\n",
      "\n",
      "Pickle: b'\\x80\\x03}q\\x00(X\\x01\\x00\\x00\\x00aq\\x01]q\\x02(K\\x01G@\\x00\\x00\\x00\\x00\\x00\\x00\\x00K\\x03cbuiltins\\ncomplex\\nq\\x03G@\\x10\\x00\\x00\\x00\\x00\\x00\\x00G@\\x18\\x00\\x00\\x00\\x00\\x00\\x00\\x86q\\x04Rq\\x05eX\\x01\\x00\\x00\\x00bq\\x06X\\x10\\x00\\x00\\x00character stringq\\x07C\\x0bbyte stringq\\x08\\x86q\\tX\\x01\\x00\\x00\\x00cq\\ncbuiltins\\nset\\nq\\x0b]q\\x0c(\\x89N\\x88e\\x85q\\rRq\\x0eu.'\n"
     ]
    }
   ],
   "source": [
    "# An arbitrary collection of objects supported by pickle.\n",
    "data = {\n",
    "    'a': [1, 2.0, 3, 4+6j],\n",
    "    'b': (\"character string\", b\"byte string\"),\n",
    "    'c': {None, True, False}\n",
    "}\n",
    "print('Python:', data)\n",
    "print()\n",
    "\n",
    "pickled_data = pickle.dumps(data)\n",
    "print('Pickle:', pickled_data)"
   ]
  },
  {
   "cell_type": "code",
   "execution_count": 48,
   "metadata": {},
   "outputs": [],
   "source": [
    "with open('data.pickle', 'wb') as fout:\n",
    "    pickle.dump(data, fout)"
   ]
  },
  {
   "cell_type": "code",
   "execution_count": 49,
   "metadata": {},
   "outputs": [],
   "source": [
    "with open('data.pickle', 'rb') as fin:\n",
    "    data1 = pickle.load(fin)"
   ]
  },
  {
   "cell_type": "code",
   "execution_count": 50,
   "metadata": {},
   "outputs": [
    {
     "data": {
      "text/plain": [
       "{'a': [1, 2.0, 3, (4+6j)],\n",
       " 'b': ('character string', b'byte string'),\n",
       " 'c': {False, None, True}}"
      ]
     },
     "execution_count": 50,
     "metadata": {},
     "output_type": "execute_result"
    }
   ],
   "source": [
    "data1"
   ]
  },
  {
   "cell_type": "markdown",
   "metadata": {},
   "source": [
    "### shelve"
   ]
  },
  {
   "cell_type": "markdown",
   "metadata": {},
   "source": [
    "https://docs.python.org/3/library/shelve.html\n",
    "\n",
    "A \"shelf\" is a persistent, dictionary-like object."
   ]
  },
  {
   "cell_type": "code",
   "execution_count": 51,
   "metadata": {},
   "outputs": [],
   "source": [
    "import shelve"
   ]
  },
  {
   "cell_type": "code",
   "execution_count": 52,
   "metadata": {},
   "outputs": [],
   "source": [
    "shelf = shelve.open('shelf')\n",
    "shelf['data'] = data\n",
    "shelf['menu_plus'] = menu_plus\n",
    "shelf.close()"
   ]
  },
  {
   "cell_type": "code",
   "execution_count": 53,
   "metadata": {},
   "outputs": [
    {
     "name": "stdout",
     "output_type": "stream",
     "text": [
      "['data', 'menu_plus']\n"
     ]
    }
   ],
   "source": [
    "shelf = shelve.open('shelf')\n",
    "print(list(shelf.keys()))\n",
    "data1 = shelf['data']\n",
    "menu_plus1 = shelf['menu_plus']\n",
    "shelf.close()"
   ]
  },
  {
   "cell_type": "code",
   "execution_count": 54,
   "metadata": {
    "scrolled": true
   },
   "outputs": [
    {
     "name": "stdout",
     "output_type": "stream",
     "text": [
      "{'a': [1, 2.0, 3, (4+6j)], 'b': ('character string', b'byte string'), 'c': {False, None, True}}\n",
      "\n",
      "{'meals': [['Main + all sides', 6.95], ['Main + 1 side', 4.95], ['Vegetarian Main + all sides', 6.45], ['Vegetarian Main + 1 side', 4.75]], 'burgers': [{'type': 'Angus Beef', 'vegetarian': False}, {'type': 'Angus Cheese', 'vegetarian': False}, {'type': 'Lamb & Feta', 'vegetarian': False}, {'type': 'Cajun Chicken', 'vegetarian': False}, {'type': 'Falafel', 'vegetarian': True}], 'sides': ['Homemade Coleslaw', 'French Fries', 'Side Salad', 'Corn on the Cob'], 'sauces': ['Ketchup', 'Mustard', 'Mayo'], 'now': datetime.datetime(2019, 2, 26, 13, 48, 56, 743523), 'meal1': <__main__.Meal object at 0x7f00b6c1bd68>, 'meal2': <__main__.Meal object at 0x7f00b6c1bdd8>}\n"
     ]
    }
   ],
   "source": [
    "print(data1)\n",
    "print()\n",
    "print(menu_plus1)"
   ]
  },
  {
   "cell_type": "markdown",
   "metadata": {},
   "source": [
    "## YAML (YAML Ain't Markup Language)"
   ]
  },
  {
   "cell_type": "markdown",
   "metadata": {},
   "source": [
    "JSON is a subset of [YAML](http://yaml.org/) (v1.2).\n",
    "\n",
    "YAML was designed to be more human-readable than JSON and to provide support for serializing arbitrary native data structures.  \n",
    "\n",
    "The standard Python library does not include YAML handling, so you need to install a third-party library ([PyYAML](https://pyyaml.org/))."
   ]
  },
  {
   "cell_type": "code",
   "execution_count": 55,
   "metadata": {},
   "outputs": [
    {
     "name": "stdout",
     "output_type": "stream",
     "text": [
      "Requirement already satisfied: PyYAML in /srv/conda/lib/python3.6/site-packages (3.13)\r\n"
     ]
    }
   ],
   "source": [
    "!pip install PyYAML"
   ]
  },
  {
   "cell_type": "code",
   "execution_count": 56,
   "metadata": {},
   "outputs": [],
   "source": [
    "import yaml"
   ]
  },
  {
   "cell_type": "markdown",
   "metadata": {},
   "source": [
    "Dump YAML representation of `menu_plus`.  Note that a `datetime` object and instances of the `Meal` class are supported."
   ]
  },
  {
   "cell_type": "code",
   "execution_count": 57,
   "metadata": {},
   "outputs": [
    {
     "name": "stdout",
     "output_type": "stream",
     "text": [
      "burgers:\n",
      "- {type: Angus Beef, vegetarian: false}\n",
      "- {type: Angus Cheese, vegetarian: false}\n",
      "- {type: Lamb & Feta, vegetarian: false}\n",
      "- {type: Cajun Chicken, vegetarian: false}\n",
      "- {type: Falafel, vegetarian: true}\n",
      "meal1: !!python/object:__main__.Meal\n",
      "  burger: Angus Beef\n",
      "  sauces: [Ketchup, Mustard]\n",
      "  sides: [French Fries]\n",
      "meal2: !!python/object:__main__.Meal\n",
      "  burger: Falafel\n",
      "  sauces: [Mayo]\n",
      "  sides: [Homemade Coleslaw, French Fries, Side Salad, Corn on the Cob]\n",
      "meals:\n",
      "- [Main + all sides, 6.95]\n",
      "- [Main + 1 side, 4.95]\n",
      "- [Vegetarian Main + all sides, 6.45]\n",
      "- [Vegetarian Main + 1 side, 4.75]\n",
      "now: 2019-02-26 13:48:56.743523\n",
      "sauces: [Ketchup, Mustard, Mayo]\n",
      "sides: [Homemade Coleslaw, French Fries, Side Salad, Corn on the Cob]\n",
      "\n"
     ]
    }
   ],
   "source": [
    "print(yaml.dump(menu_plus))"
   ]
  },
  {
   "cell_type": "code",
   "execution_count": 58,
   "metadata": {},
   "outputs": [
    {
     "name": "stdout",
     "output_type": "stream",
     "text": [
      "{'a': [1, 2.0, 3, (4+6j)], 'b': ('character string', b'byte string'), 'c': {False, None, True}}\n"
     ]
    }
   ],
   "source": [
    "print(data)"
   ]
  },
  {
   "cell_type": "markdown",
   "metadata": {},
   "source": [
    "Dump YAML representation of `data`."
   ]
  },
  {
   "cell_type": "code",
   "execution_count": 59,
   "metadata": {},
   "outputs": [
    {
     "name": "stdout",
     "output_type": "stream",
     "text": [
      "a: [1, 2.0, 3, !!python/complex '4.0+6.0j']\n",
      "b: !!python/tuple\n",
      "- character string\n",
      "- !!binary |\n",
      "  Ynl0ZSBzdHJpbmc=\n",
      "c: !!set {false: null, null: null, true: null}\n",
      "\n"
     ]
    }
   ],
   "source": [
    "print(yaml.dump(data))"
   ]
  },
  {
   "cell_type": "code",
   "execution_count": 60,
   "metadata": {},
   "outputs": [
    {
     "name": "stdout",
     "output_type": "stream",
     "text": [
      "{'a': [1, 2.0, 3, (4+6j)], 'b': ('character string', b'byte string'), 'c': {False, None, True}}\n"
     ]
    }
   ],
   "source": [
    "print(yaml.load(yaml.dump(data)))"
   ]
  },
  {
   "cell_type": "markdown",
   "metadata": {},
   "source": [
    "Write a YAML file."
   ]
  },
  {
   "cell_type": "code",
   "execution_count": 61,
   "metadata": {},
   "outputs": [],
   "source": [
    "with open('menu_plus.yaml', 'wt') as fout:\n",
    "    yaml.dump(menu_plus, fout)"
   ]
  },
  {
   "cell_type": "markdown",
   "metadata": {},
   "source": [
    "Read a YAML file."
   ]
  },
  {
   "cell_type": "code",
   "execution_count": 62,
   "metadata": {},
   "outputs": [],
   "source": [
    "with open('menu_plus.yaml', 'rt') as fin:\n",
    "    menu_plus1 = yaml.load(fin)"
   ]
  },
  {
   "cell_type": "code",
   "execution_count": 63,
   "metadata": {},
   "outputs": [
    {
     "name": "stdout",
     "output_type": "stream",
     "text": [
      "{'burgers': [{'type': 'Angus Beef', 'vegetarian': False}, {'type': 'Angus Cheese', 'vegetarian': False}, {'type': 'Lamb & Feta', 'vegetarian': False}, {'type': 'Cajun Chicken', 'vegetarian': False}, {'type': 'Falafel', 'vegetarian': True}], 'meal1': <__main__.Meal object at 0x7f00b6326dd8>, 'meal2': <__main__.Meal object at 0x7f00b6326cf8>, 'meals': [['Main + all sides', 6.95], ['Main + 1 side', 4.95], ['Vegetarian Main + all sides', 6.45], ['Vegetarian Main + 1 side', 4.75]], 'now': datetime.datetime(2019, 2, 26, 13, 48, 56, 743523), 'sauces': ['Ketchup', 'Mustard', 'Mayo'], 'sides': ['Homemade Coleslaw', 'French Fries', 'Side Salad', 'Corn on the Cob']}\n"
     ]
    }
   ],
   "source": [
    "print(menu_plus1)"
   ]
  },
  {
   "cell_type": "code",
   "execution_count": 64,
   "metadata": {},
   "outputs": [
    {
     "name": "stdout",
     "output_type": "stream",
     "text": [
      "meals = [['Main + all sides', 6.95], ['Main + 1 side', 4.95], ['Vegetarian Main + all sides', 6.45], ['Vegetarian Main + 1 side', 4.75]]\n",
      "burgers = [{'type': 'Angus Beef', 'vegetarian': False}, {'type': 'Angus Cheese', 'vegetarian': False}, {'type': 'Lamb & Feta', 'vegetarian': False}, {'type': 'Cajun Chicken', 'vegetarian': False}, {'type': 'Falafel', 'vegetarian': True}]\n",
      "sides = ['Homemade Coleslaw', 'French Fries', 'Side Salad', 'Corn on the Cob']\n",
      "sauces = ['Ketchup', 'Mustard', 'Mayo']\n"
     ]
    }
   ],
   "source": [
    "print('meals = {}'.format(menu_plus1['meals']))\n",
    "print('burgers = {}'.format(menu_plus1['burgers']))\n",
    "print('sides = {}'.format(menu_plus1['sides']))\n",
    "print('sauces = {}'.format(menu_plus1['sauces']))"
   ]
  },
  {
   "cell_type": "markdown",
   "metadata": {},
   "source": [
    "As with Pickle, note that YAML doesn't save the Meal class definition, just the instances."
   ]
  },
  {
   "cell_type": "code",
   "execution_count": 65,
   "metadata": {},
   "outputs": [
    {
     "name": "stdout",
     "output_type": "stream",
     "text": [
      "Angus Beef ['French Fries'] ['Ketchup', 'Mustard'] False 4.95\n",
      "Falafel ['Homemade Coleslaw', 'French Fries', 'Side Salad', 'Corn on the Cob'] ['Mayo'] True 6.45\n"
     ]
    }
   ],
   "source": [
    "print(menu_plus1['meal1'].burger, menu_plus1['meal1'].sides, menu_plus1['meal1'].sauces, menu_plus1['meal1'].vegetarian, menu_plus1['meal1'].price)\n",
    "print(menu_plus1['meal2'].burger, menu_plus1['meal2'].sides, menu_plus1['meal2'].sauces, menu_plus1['meal2'].vegetarian, menu_plus1['meal2'].price)"
   ]
  },
  {
   "cell_type": "markdown",
   "metadata": {},
   "source": [
    "YAML allows multiple documents separated by \"`---`\" and comments starting with \"`#`\"."
   ]
  },
  {
   "cell_type": "code",
   "execution_count": 66,
   "metadata": {},
   "outputs": [
    {
     "name": "stdout",
     "output_type": "stream",
     "text": [
      "# First document.\n",
      "burgers:\n",
      "- {type: Angus Beef, vegetarian: false}\n",
      "- {type: Angus Cheese, vegetarian: false}\n",
      "- {type: Lamb & Feta, vegetarian: false}\n",
      "- {type: Cajun Chicken, vegetarian: false}\n",
      "- {type: Falafel, vegetarian: true}\n",
      "meals:\n",
      "- [Main + all sides, 6.95]\n",
      "- [Main + 1 side, 4.95]\n",
      "- [Vegetarian Main + all sides, 6.45]\n",
      "- [Vegetarian Main + 1 side, 4.75]\n",
      "sauces: [Ketchup, Mustard, Mayo]\n",
      "sides: [Homemade Coleslaw, French Fries, Side Salad, Corn on the Cob]\n",
      "---\n",
      "# Second document.\n",
      "a: [1, 2.0, 3, !!python/complex '4.0+6.0j']\n",
      "b: !!python/tuple\n",
      "- character string\n",
      "- !!binary |\n",
      "  Ynl0ZSBzdHJpbmc=\n",
      "c: !!set {false: null, null: null, true: null}\n",
      "\n"
     ]
    }
   ],
   "source": [
    "documents = '# First document.\\n' + yaml.dump(menu) + '---\\n' + '# Second document.\\n' + yaml.dump(data)\n",
    "print(documents)"
   ]
  },
  {
   "cell_type": "markdown",
   "metadata": {},
   "source": [
    "Write multiple YAML documents with `dump_all` and read them with `load_all`."
   ]
  },
  {
   "cell_type": "code",
   "execution_count": 67,
   "metadata": {},
   "outputs": [],
   "source": [
    "with open('documents.yaml', 'wt') as fout:\n",
    "    yaml.dump_all([menu, data], fout)"
   ]
  },
  {
   "cell_type": "code",
   "execution_count": 68,
   "metadata": {},
   "outputs": [
    {
     "name": "stdout",
     "output_type": "stream",
     "text": [
      "{'burgers': [{'type': 'Angus Beef', 'vegetarian': False}, {'type': 'Angus Cheese', 'vegetarian': False}, {'type': 'Lamb & Feta', 'vegetarian': False}, {'type': 'Cajun Chicken', 'vegetarian': False}, {'type': 'Falafel', 'vegetarian': True}], 'meals': [['Main + all sides', 6.95], ['Main + 1 side', 4.95], ['Vegetarian Main + all sides', 6.45], ['Vegetarian Main + 1 side', 4.75]], 'sauces': ['Ketchup', 'Mustard', 'Mayo'], 'sides': ['Homemade Coleslaw', 'French Fries', 'Side Salad', 'Corn on the Cob']}\n",
      "\n",
      "{'a': [1, 2.0, 3, (4+6j)], 'b': ('character string', b'byte string'), 'c': {False, None, True}}\n",
      "\n"
     ]
    }
   ],
   "source": [
    "with open('documents.yaml', 'rt') as fin:\n",
    "    documents = yaml.load_all(fin)\n",
    "    for document in documents:\n",
    "        print(document)\n",
    "        print()"
   ]
  },
  {
   "cell_type": "markdown",
   "metadata": {},
   "source": [
    "[LibYAML](https://pyyaml.org/wiki/LibYAML) is a C library for parsing and emitting YAML.  The LibYAML bindings are faster than the pure Python version, but Pickle is even faster."
   ]
  },
  {
   "cell_type": "code",
   "execution_count": 69,
   "metadata": {},
   "outputs": [
    {
     "name": "stdout",
     "output_type": "stream",
     "text": [
      "Loading using YAML Loader:\n",
      "9.3 ms ± 316 µs per loop (mean ± std. dev. of 7 runs, 100 loops each)\n",
      "\n",
      "Loading using YAML CLoader:\n",
      "959 µs ± 79.1 µs per loop (mean ± std. dev. of 7 runs, 1000 loops each)\n",
      "\n",
      "Loading using Pickle:\n",
      "32.4 µs ± 3.1 µs per loop (mean ± std. dev. of 7 runs, 10000 loops each)\n"
     ]
    }
   ],
   "source": [
    "print('Loading using YAML Loader:')\n",
    "%timeit with open('menu_plus.yaml', 'rt') as fin: menu_plus1 = yaml.load(fin)\n",
    "print()\n",
    "print('Loading using YAML CLoader:')\n",
    "%timeit with open('menu_plus.yaml', 'rt') as fin: menu_plus1 = yaml.load(fin, Loader=yaml.CLoader)\n",
    "print()\n",
    "print('Loading using Pickle:')\n",
    "%timeit with open('menu_plus.pickle', 'rb') as fin: menu_plus1 = pickle.load(fin)"
   ]
  },
  {
   "cell_type": "markdown",
   "metadata": {},
   "source": [
    "Same timing tests for dumping."
   ]
  },
  {
   "cell_type": "code",
   "execution_count": 70,
   "metadata": {},
   "outputs": [
    {
     "name": "stdout",
     "output_type": "stream",
     "text": [
      "Dumping using YAML Dumper:\n",
      "6.19 ms ± 660 µs per loop (mean ± std. dev. of 7 runs, 100 loops each)\n",
      "\n",
      "Dumping using YAML CDumper:\n",
      "1.54 ms ± 55.4 µs per loop (mean ± std. dev. of 7 runs, 1000 loops each)\n",
      "\n",
      "Dumping using Pickle:\n",
      "The slowest run took 4.13 times longer than the fastest. This could mean that an intermediate result is being cached.\n",
      "1.04 ms ± 742 µs per loop (mean ± std. dev. of 7 runs, 1000 loops each)\n"
     ]
    }
   ],
   "source": [
    "print('Dumping using YAML Dumper:')\n",
    "%timeit with open('menu_plus.yaml', 'wt') as fout: yaml.dump(menu_plus1, fout)\n",
    "print()\n",
    "print('Dumping using YAML CDumper:')\n",
    "%timeit with open('menu_plus.yaml', 'wt') as fout: yaml.dump(menu_plus1, fout, Dumper=yaml.CDumper)\n",
    "print()\n",
    "print('Dumping using Pickle:')\n",
    "%timeit with open('menu_plus.pickle', 'wb') as fout: pickle.dump(menu_plus1, fout)"
   ]
  },
  {
   "cell_type": "markdown",
   "metadata": {},
   "source": [
    "Import YAML `CLoader` and `CDumper` if available, otherwise use pure Python."
   ]
  },
  {
   "cell_type": "code",
   "execution_count": 71,
   "metadata": {},
   "outputs": [
    {
     "name": "stdout",
     "output_type": "stream",
     "text": [
      "Using LibYAML based parser and emitter.\n"
     ]
    }
   ],
   "source": [
    "try:\n",
    "    from yaml import CLoader as Loader, CDumper as Dumper\n",
    "    print('Using LibYAML based parser and emitter.')\n",
    "except ImportError:\n",
    "    from yaml import Loader, Dumper\n",
    "    print('Using pure Python parser and emitter.')"
   ]
  },
  {
   "cell_type": "code",
   "execution_count": 72,
   "metadata": {},
   "outputs": [],
   "source": [
    "with open('menu.yaml', 'wt') as fout:\n",
    "    yaml.dump(menu1, fout, Dumper=Dumper)"
   ]
  },
  {
   "cell_type": "code",
   "execution_count": 73,
   "metadata": {},
   "outputs": [],
   "source": [
    "with open('menu.yaml', 'rt') as fin:\n",
    "    menu1 = yaml.load(fin, Loader=Loader)"
   ]
  },
  {
   "cell_type": "markdown",
   "metadata": {},
   "source": [
    "**Warning:** It is not safe to call `yaml.load` (or `pickle.load`) with any data received from an untrusted source!  The function `yaml.safe_load` limits this ability to simple Python objects."
   ]
  },
  {
   "cell_type": "code",
   "execution_count": 74,
   "metadata": {},
   "outputs": [],
   "source": [
    "#with open('menu_plus.yaml', 'rt') as fin:\n",
    "#    menu_plus1 = yaml.safe_load(fin) # gives a ConstructorError"
   ]
  },
  {
   "cell_type": "code",
   "execution_count": 75,
   "metadata": {},
   "outputs": [],
   "source": [
    "#with open('menu_plus_safe.yaml', 'wt') as fout:\n",
    "#    yaml.safe_dump(menu_plus, fout) # gives a RepresenterError"
   ]
  },
  {
   "cell_type": "markdown",
   "metadata": {},
   "source": [
    "Import YAML CSafeLoader and CSafeDumper if available, otherwise use pure Python."
   ]
  },
  {
   "cell_type": "code",
   "execution_count": 76,
   "metadata": {},
   "outputs": [
    {
     "name": "stdout",
     "output_type": "stream",
     "text": [
      "Using LibYAML based (Safe) parser and emitter.\n"
     ]
    }
   ],
   "source": [
    "try:\n",
    "    from yaml import CSafeLoader as Loader, CSafeDumper as Dumper\n",
    "    print('Using LibYAML based (Safe) parser and emitter.')\n",
    "except ImportError:\n",
    "    from yaml import SafeLoader as Loader, SafeDumper as Dumper\n",
    "    print('Using pure Python (Safe) parser and emitter.')"
   ]
  },
  {
   "cell_type": "markdown",
   "metadata": {},
   "source": [
    "Note use of `yaml.load` (not `yaml.safe_load`) and `yaml.dump` (not `yaml.safe_dump`) when using the \"Safe\" variants of the Loader and Dumper."
   ]
  },
  {
   "cell_type": "code",
   "execution_count": 77,
   "metadata": {},
   "outputs": [],
   "source": [
    "#with open('menu_plus.yaml', 'rt') as fin:\n",
    "#    menu_plus1 = yaml.load(fin, Loader=Loader) # gives a ConstructorError"
   ]
  },
  {
   "cell_type": "code",
   "execution_count": 78,
   "metadata": {},
   "outputs": [],
   "source": [
    "#with open('menu_plus_safe.yaml', 'wt') as fout:\n",
    "#    yaml.dump(menu_plus1, fout, Dumper=Dumper) # gives a RepresenterError"
   ]
  },
  {
   "cell_type": "code",
   "execution_count": 79,
   "metadata": {},
   "outputs": [],
   "source": [
    "with open('menu.yaml', 'wt') as fout:\n",
    "    yaml.dump(menu, fout, Dumper=Dumper)"
   ]
  },
  {
   "cell_type": "code",
   "execution_count": 80,
   "metadata": {},
   "outputs": [
    {
     "name": "stdout",
     "output_type": "stream",
     "text": [
      "{'burgers': [{'type': 'Angus Beef', 'vegetarian': False}, {'type': 'Angus Cheese', 'vegetarian': False}, {'type': 'Lamb & Feta', 'vegetarian': False}, {'type': 'Cajun Chicken', 'vegetarian': False}, {'type': 'Falafel', 'vegetarian': True}], 'meals': [['Main + all sides', 6.95], ['Main + 1 side', 4.95], ['Vegetarian Main + all sides', 6.45], ['Vegetarian Main + 1 side', 4.75]], 'sauces': ['Ketchup', 'Mustard', 'Mayo'], 'sides': ['Homemade Coleslaw', 'French Fries', 'Side Salad', 'Corn on the Cob']}\n"
     ]
    }
   ],
   "source": [
    "with open('menu.yaml', 'rt') as fin:\n",
    "    menu1 = yaml.load(fin, Loader=Loader)\n",
    "print(menu1)"
   ]
  },
  {
   "cell_type": "markdown",
   "metadata": {},
   "source": [
    "Repeat timing tests limiting to simple Python objects and add JSON to comparison.  JSON is faster than YAML (with LibYAML bindings), but still slightly slower than Pickle."
   ]
  },
  {
   "cell_type": "code",
   "execution_count": 81,
   "metadata": {},
   "outputs": [
    {
     "name": "stdout",
     "output_type": "stream",
     "text": [
      "Dumping using YAML SafeDumper:\n",
      "3.71 ms ± 667 µs per loop (mean ± std. dev. of 7 runs, 100 loops each)\n",
      "\n",
      "Dumping using YAML CSafeDumper:\n",
      "1.51 ms ± 315 µs per loop (mean ± std. dev. of 7 runs, 1000 loops each)\n",
      "\n",
      "Dumping using JSON:\n",
      "1.2 ms ± 371 µs per loop (mean ± std. dev. of 7 runs, 1000 loops each)\n",
      "\n",
      "Dumping using Pickle:\n",
      "789 µs ± 103 µs per loop (mean ± std. dev. of 7 runs, 1000 loops each)\n",
      "\n"
     ]
    }
   ],
   "source": [
    "print('Dumping using YAML SafeDumper:')\n",
    "%timeit with open('menu.yaml', 'wt') as fout: yaml.dump(menu, fout, Dumper=yaml.SafeDumper)\n",
    "print()\n",
    "print('Dumping using YAML CSafeDumper:')\n",
    "%timeit with open('menu.yaml', 'wt') as fout: yaml.dump(menu, fout, Dumper=yaml.CSafeDumper)\n",
    "print()\n",
    "print('Dumping using JSON:')\n",
    "%timeit with open('menu.json', 'wt') as fout: json.dump(menu, fout)\n",
    "print()\n",
    "print('Dumping using Pickle:')\n",
    "%timeit with open('menu.pickle', 'wb') as fout: pickle.dump(menu, fout)\n",
    "print()"
   ]
  },
  {
   "cell_type": "code",
   "execution_count": 82,
   "metadata": {},
   "outputs": [
    {
     "name": "stdout",
     "output_type": "stream",
     "text": [
      "Loading using YAML SafeLoader:\n",
      "5.3 ms ± 446 µs per loop (mean ± std. dev. of 7 runs, 100 loops each)\n",
      "\n",
      "Loading using YAML CSafeLoader:\n",
      "555 µs ± 22.6 µs per loop (mean ± std. dev. of 7 runs, 1000 loops each)\n",
      "\n",
      "Loading using JSON:\n",
      "43.1 µs ± 2.81 µs per loop (mean ± std. dev. of 7 runs, 10000 loops each)\n",
      "\n",
      "Loading using Pickle:\n",
      "21.5 µs ± 1.28 µs per loop (mean ± std. dev. of 7 runs, 10000 loops each)\n"
     ]
    }
   ],
   "source": [
    "print('Loading using YAML SafeLoader:')\n",
    "%timeit with open('menu.yaml', 'rt') as fin: menu1 = yaml.load(fin, Loader=yaml.SafeLoader)\n",
    "print()\n",
    "print('Loading using YAML CSafeLoader:')\n",
    "%timeit with open('menu.yaml', 'rt') as fin: menu1 = yaml.load(fin, Loader=yaml.CSafeLoader)\n",
    "print()\n",
    "print('Loading using JSON:')\n",
    "%timeit with open('menu.json', 'rt') as fin: menu1 = json.load(fin)\n",
    "print()\n",
    "print('Loading using Pickle:')\n",
    "%timeit with open('menu.pickle', 'rb') as fin: menu1 = pickle.load(fin)"
   ]
  },
  {
   "cell_type": "markdown",
   "metadata": {},
   "source": [
    "## Summary\n",
    "\n",
    "Simple data format comprising rows and columns. $\\Rightarrow$ Use CSV.\n",
    "\n",
    "Nested data formats comprising key/value pairs and lists. $\\Rightarrow$ Use JSON or YAML.\n",
    "\n",
    "More complicated Python objects and binary data. $\\Rightarrow$ Use Pickle or YAML."
   ]
  }
 ],
 "metadata": {
  "kernelspec": {
   "display_name": "Python 3",
   "language": "python",
   "name": "python3"
  },
  "language_info": {
   "codemirror_mode": {
    "name": "ipython",
    "version": 3
   },
   "file_extension": ".py",
   "mimetype": "text/x-python",
   "name": "python",
   "nbconvert_exporter": "python",
   "pygments_lexer": "ipython3",
   "version": "3.6.7"
  }
 },
 "nbformat": 4,
 "nbformat_minor": 2
}
